{
  "cells": [
    {
      "metadata": {
        "_uuid": "0707c903a31649998ec18de096c550e756deb570",
        "_cell_guid": "6db0c996-22b1-4911-bf2e-a63baa629a0f"
      },
      "cell_type": "markdown",
      "source": "# Preprocessing + Pipeline building\n\nThis notebook builds on where we left in the last notebook"
    },
    {
      "metadata": {
        "_uuid": "617248ad982879b4a1708d5933b2420db18c9759",
        "collapsed": true,
        "_cell_guid": "e036d162-eb8f-4825-a029-73069a9a8f6d",
        "trusted": true
      },
      "cell_type": "code",
      "source": "import pandas as pd\n\ntrain_path = \"../input/train.csv\"\n\ndf = pd.read_csv(train_path)",
      "execution_count": 1,
      "outputs": []
    },
    {
      "metadata": {
        "_uuid": "341625ed14ba9372d7e7116a464972d388fe448f",
        "_cell_guid": "a5cea2e0-e283-4b6e-8cc3-f44c98cfb2a3"
      },
      "cell_type": "markdown",
      "source": "### Handling missing values\n\n* Drop columns with missing values\n* Imputation: Fills in missing values"
    },
    {
      "metadata": {
        "_uuid": "bd33256d0e7856b3a80ab5c36cdb201ffcceacb9",
        "_cell_guid": "b46d6a86-d089-41c1-979c-2e3e1a0f393f"
      },
      "cell_type": "markdown",
      "source": "#### Drop columns with missing values"
    },
    {
      "metadata": {
        "_uuid": "e28b9de9695f728a7ad9ec7f0c2f495e19590ce5",
        "_cell_guid": "7bbefc4a-fc97-4f3b-a15b-b08bac23b4a7",
        "trusted": true,
        "collapsed": true
      },
      "cell_type": "code",
      "source": "cols_with_missing_data = [col for col in df.columns if df[col].isnull().any()]\nreduced_original_data = df.drop(cols_with_missing_data, axis=1)",
      "execution_count": 2,
      "outputs": []
    },
    {
      "metadata": {
        "_uuid": "438c1a85fc01ca343c286caffbf340bce9c2564b",
        "_cell_guid": "79fafe25-820c-48f2-878d-5160d651fda4"
      },
      "cell_type": "markdown",
      "source": "Testing our model on this data"
    },
    {
      "metadata": {
        "_uuid": "fe6083fb45647d52120d20eeb3177cf6336d55fb",
        "_cell_guid": "82833593-ea32-4340-ad36-8d310908e6d7",
        "trusted": true
      },
      "cell_type": "code",
      "source": "from sklearn.ensemble import RandomForestRegressor\nfrom sklearn.metrics import mean_absolute_error\nfrom sklearn.model_selection import train_test_split\n\ny = df[\"SalePrice\"]\nX = df.drop(\"SalePrice\", axis=1)\n# For the sake of keeping the example simple, we'll use only numeric predictors\nnumeric_predictors = df.select_dtypes(exclude=['object'])",
      "execution_count": 12,
      "outputs": []
    },
    {
      "metadata": {
        "_uuid": "889b55d9a9f9fea5a0b27da36498ecc6a35d2e39",
        "collapsed": true,
        "_cell_guid": "3d00f2cc-5b93-4a2e-9f97-7a8848980f54",
        "trusted": true
      },
      "cell_type": "code",
      "source": "def get_mae(train_X, train_y, test_X, test_y):\n    regressor = RandomForestRegressor(random_state=0)\n    regressor.fit(train_X, train_y)\n    predictions = regressor.predict(test_X)\n    error = mean_absolute_error(test_y, predictions)\n    return error",
      "execution_count": 4,
      "outputs": []
    },
    {
      "metadata": {
        "_uuid": "436af1157d7442e66708bef0e440a63b91fdfdfe",
        "collapsed": true,
        "_cell_guid": "874f8f5b-b81b-4d67-afa2-5fcfb17ee9aa",
        "trusted": true
      },
      "cell_type": "code",
      "source": "train_X, test_X, train_y, test_y = train_test_split(numeric_predictors, y, test_size=0.30, random_state=0)",
      "execution_count": 15,
      "outputs": []
    },
    {
      "metadata": {
        "_uuid": "e58373caed2a27626c8b0465ab28cb2fd57ac06a",
        "_cell_guid": "8cb9d92e-2898-41f6-a7fb-07b2ad734c68",
        "trusted": true
      },
      "cell_type": "code",
      "source": "cols_with_missing = [col for col in train_X.columns if train_X[col].isnull().any()]\nreduced_train_X = train_X.drop(cols_with_missing, axis=1)\nreduced_test_X = test_X.drop(cols_with_missing, axis=1)\n\nprint(get_mae(reduced_train_X, train_y, reduced_test_X, test_y))",
      "execution_count": 16,
      "outputs": [
        {
          "output_type": "stream",
          "text": "923.912785388\n",
          "name": "stdout"
        }
      ]
    },
    {
      "metadata": {
        "_uuid": "34404c9732e45d25f1ce8fa54203f45b821d22cb",
        "collapsed": true,
        "_cell_guid": "0fc41176-4981-4d52-8b74-0a77c58a0cb0",
        "trusted": false
      },
      "cell_type": "markdown",
      "source": "### Imputation"
    },
    {
      "metadata": {
        "trusted": true,
        "collapsed": true,
        "_uuid": "1cccb3414d0161e20a84f7917fa34202a79e9a6a"
      },
      "cell_type": "code",
      "source": "from sklearn.preprocessing import Imputer\n\nimputer = Imputer()\nimputed_train_X = imputer.fit_transform(train_X)\nimputed_test_X = imputer.transform(test_X)",
      "execution_count": 9,
      "outputs": []
    },
    {
      "metadata": {
        "trusted": true,
        "_uuid": "c33faf12095a64a45a9fe3fedffe76a35f7e8f20"
      },
      "cell_type": "code",
      "source": "print(get_mae(imputed_train_X, train_y, imputed_test_X, test_y))",
      "execution_count": 10,
      "outputs": [
        {
          "output_type": "stream",
          "text": "1003.7890411\n",
          "name": "stdout"
        }
      ]
    },
    {
      "metadata": {
        "_uuid": "b99b2dbe26861fdf2aced8c8e29b8aaff938cf34"
      },
      "cell_type": "markdown",
      "source": "### Handling categorical data"
    },
    {
      "metadata": {
        "trusted": true,
        "_uuid": "c72b4f3440a3cf5658883fe9bc86dc95c9e43025"
      },
      "cell_type": "code",
      "source": "from sklearn.model_selection import cross_val_score\nfrom sklearn.ensemble import RandomForestRegressor\n\ndef get_mae(X, y):    \n    return -1 * cross_val_score(RandomForestRegressor(50), X, y, scoring = 'neg_mean_absolute_error').mean()\n\npredictors_without_categoricals = imputed_train_X.select_dtypes(exclude=[\"object\"])\n\none_hot_encoded_training_predictors = pd.get_dummies(imputed_train_X)\n\nget_mae(predictors_without_categoricals, y)",
      "execution_count": 18,
      "outputs": [
        {
          "output_type": "error",
          "ename": "AttributeError",
          "evalue": "'numpy.ndarray' object has no attribute 'select_dtypes'",
          "traceback": [
            "\u001b[0;31m---------------------------------------------------------------------------\u001b[0m",
            "\u001b[0;31mAttributeError\u001b[0m                            Traceback (most recent call last)",
            "\u001b[0;32m<ipython-input-18-de2330fd0ae0>\u001b[0m in \u001b[0;36m<module>\u001b[0;34m()\u001b[0m\n\u001b[1;32m      5\u001b[0m     \u001b[0;32mreturn\u001b[0m \u001b[0;34m-\u001b[0m\u001b[0;36m1\u001b[0m \u001b[0;34m*\u001b[0m \u001b[0mcross_val_score\u001b[0m\u001b[0;34m(\u001b[0m\u001b[0mRandomForestRegressor\u001b[0m\u001b[0;34m(\u001b[0m\u001b[0;36m50\u001b[0m\u001b[0;34m)\u001b[0m\u001b[0;34m,\u001b[0m \u001b[0mX\u001b[0m\u001b[0;34m,\u001b[0m \u001b[0my\u001b[0m\u001b[0;34m,\u001b[0m \u001b[0mscoring\u001b[0m \u001b[0;34m=\u001b[0m \u001b[0;34m'neg_mean_absolute_error'\u001b[0m\u001b[0;34m)\u001b[0m\u001b[0;34m.\u001b[0m\u001b[0mmean\u001b[0m\u001b[0;34m(\u001b[0m\u001b[0;34m)\u001b[0m\u001b[0;34m\u001b[0m\u001b[0m\n\u001b[1;32m      6\u001b[0m \u001b[0;34m\u001b[0m\u001b[0m\n\u001b[0;32m----> 7\u001b[0;31m \u001b[0mpredictors_without_categoricals\u001b[0m \u001b[0;34m=\u001b[0m \u001b[0mimputed_train_X\u001b[0m\u001b[0;34m.\u001b[0m\u001b[0mselect_dtypes\u001b[0m\u001b[0;34m(\u001b[0m\u001b[0mexclude\u001b[0m\u001b[0;34m=\u001b[0m\u001b[0;34m[\u001b[0m\u001b[0;34m\"object\"\u001b[0m\u001b[0;34m]\u001b[0m\u001b[0;34m)\u001b[0m\u001b[0;34m\u001b[0m\u001b[0m\n\u001b[0m\u001b[1;32m      8\u001b[0m \u001b[0;34m\u001b[0m\u001b[0m\n\u001b[1;32m      9\u001b[0m \u001b[0mget_mae\u001b[0m\u001b[0;34m(\u001b[0m\u001b[0mpredictors_without_categoricals\u001b[0m\u001b[0;34m,\u001b[0m \u001b[0my\u001b[0m\u001b[0;34m)\u001b[0m\u001b[0;34m\u001b[0m\u001b[0m\n",
            "\u001b[0;31mAttributeError\u001b[0m: 'numpy.ndarray' object has no attribute 'select_dtypes'"
          ]
        }
      ]
    },
    {
      "metadata": {
        "trusted": true,
        "collapsed": true,
        "_uuid": "7a999f2021bb9984bd7a673bbc8385b5b0c0aec0"
      },
      "cell_type": "code",
      "source": "",
      "execution_count": null,
      "outputs": []
    }
  ],
  "metadata": {
    "language_info": {
      "name": "python",
      "version": "3.6.4",
      "mimetype": "text/x-python",
      "codemirror_mode": {
        "name": "ipython",
        "version": 3
      },
      "pygments_lexer": "ipython3",
      "nbconvert_exporter": "python",
      "file_extension": ".py"
    },
    "kernelspec": {
      "display_name": "Python 3",
      "language": "python",
      "name": "python3"
    }
  },
  "nbformat": 4,
  "nbformat_minor": 1
}